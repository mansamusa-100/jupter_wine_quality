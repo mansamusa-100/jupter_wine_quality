{
 "cells": [
  {
   "cell_type": "markdown",
   "id": "6d951d42",
   "metadata": {
    "papermill": {
     "duration": 0.012725,
     "end_time": "2024-12-27T22:08:50.519710",
     "exception": false,
     "start_time": "2024-12-27T22:08:50.506985",
     "status": "completed"
    },
    "tags": []
   },
   "source": [
    "#  The Titanic Dataset Project"
   ]
  },
  {
   "cell_type": "markdown",
   "id": "1e59ded4",
   "metadata": {
    "papermill": {
     "duration": 0.00621,
     "end_time": "2024-12-27T22:08:50.532748",
     "exception": false,
     "start_time": "2024-12-27T22:08:50.526538",
     "status": "completed"
    },
    "tags": []
   },
   "source": [
    "## Importing pandas and Loading the data"
   ]
  },
  {
   "cell_type": "code",
   "execution_count": 1,
   "id": "6d207508",
   "metadata": {
    "execution": {
     "iopub.execute_input": "2024-12-27T22:08:50.548815Z",
     "iopub.status.busy": "2024-12-27T22:08:50.548430Z",
     "iopub.status.idle": "2024-12-27T22:08:50.950147Z",
     "shell.execute_reply": "2024-12-27T22:08:50.949020Z"
    },
    "papermill": {
     "duration": 0.412714,
     "end_time": "2024-12-27T22:08:50.952002",
     "exception": false,
     "start_time": "2024-12-27T22:08:50.539288",
     "status": "completed"
    },
    "tags": []
   },
   "outputs": [
    {
     "data": {
      "text/html": [
       "<div>\n",
       "<style scoped>\n",
       "    .dataframe tbody tr th:only-of-type {\n",
       "        vertical-align: middle;\n",
       "    }\n",
       "\n",
       "    .dataframe tbody tr th {\n",
       "        vertical-align: top;\n",
       "    }\n",
       "\n",
       "    .dataframe thead th {\n",
       "        text-align: right;\n",
       "    }\n",
       "</style>\n",
       "<table border=\"1\" class=\"dataframe\">\n",
       "  <thead>\n",
       "    <tr style=\"text-align: right;\">\n",
       "      <th></th>\n",
       "      <th>PassengerId</th>\n",
       "      <th>Survived</th>\n",
       "      <th>Pclass</th>\n",
       "      <th>Name</th>\n",
       "      <th>Sex</th>\n",
       "      <th>Age</th>\n",
       "      <th>SibSp</th>\n",
       "      <th>Parch</th>\n",
       "      <th>Ticket</th>\n",
       "      <th>Fare</th>\n",
       "      <th>Cabin</th>\n",
       "      <th>Embarked</th>\n",
       "    </tr>\n",
       "  </thead>\n",
       "  <tbody>\n",
       "    <tr>\n",
       "      <th>0</th>\n",
       "      <td>1</td>\n",
       "      <td>0</td>\n",
       "      <td>3</td>\n",
       "      <td>Braund, Mr. Owen Harris</td>\n",
       "      <td>male</td>\n",
       "      <td>22.0</td>\n",
       "      <td>1</td>\n",
       "      <td>0</td>\n",
       "      <td>A/5 21171</td>\n",
       "      <td>7.2500</td>\n",
       "      <td>NaN</td>\n",
       "      <td>S</td>\n",
       "    </tr>\n",
       "    <tr>\n",
       "      <th>1</th>\n",
       "      <td>2</td>\n",
       "      <td>1</td>\n",
       "      <td>1</td>\n",
       "      <td>Cumings, Mrs. John Bradley (Florence Briggs Th...</td>\n",
       "      <td>female</td>\n",
       "      <td>38.0</td>\n",
       "      <td>1</td>\n",
       "      <td>0</td>\n",
       "      <td>PC 17599</td>\n",
       "      <td>71.2833</td>\n",
       "      <td>C85</td>\n",
       "      <td>C</td>\n",
       "    </tr>\n",
       "    <tr>\n",
       "      <th>2</th>\n",
       "      <td>3</td>\n",
       "      <td>1</td>\n",
       "      <td>3</td>\n",
       "      <td>Heikkinen, Miss. Laina</td>\n",
       "      <td>female</td>\n",
       "      <td>26.0</td>\n",
       "      <td>0</td>\n",
       "      <td>0</td>\n",
       "      <td>STON/O2. 3101282</td>\n",
       "      <td>7.9250</td>\n",
       "      <td>NaN</td>\n",
       "      <td>S</td>\n",
       "    </tr>\n",
       "    <tr>\n",
       "      <th>3</th>\n",
       "      <td>4</td>\n",
       "      <td>1</td>\n",
       "      <td>1</td>\n",
       "      <td>Futrelle, Mrs. Jacques Heath (Lily May Peel)</td>\n",
       "      <td>female</td>\n",
       "      <td>35.0</td>\n",
       "      <td>1</td>\n",
       "      <td>0</td>\n",
       "      <td>113803</td>\n",
       "      <td>53.1000</td>\n",
       "      <td>C123</td>\n",
       "      <td>S</td>\n",
       "    </tr>\n",
       "    <tr>\n",
       "      <th>4</th>\n",
       "      <td>5</td>\n",
       "      <td>0</td>\n",
       "      <td>3</td>\n",
       "      <td>Allen, Mr. William Henry</td>\n",
       "      <td>male</td>\n",
       "      <td>35.0</td>\n",
       "      <td>0</td>\n",
       "      <td>0</td>\n",
       "      <td>373450</td>\n",
       "      <td>8.0500</td>\n",
       "      <td>NaN</td>\n",
       "      <td>S</td>\n",
       "    </tr>\n",
       "    <tr>\n",
       "      <th>...</th>\n",
       "      <td>...</td>\n",
       "      <td>...</td>\n",
       "      <td>...</td>\n",
       "      <td>...</td>\n",
       "      <td>...</td>\n",
       "      <td>...</td>\n",
       "      <td>...</td>\n",
       "      <td>...</td>\n",
       "      <td>...</td>\n",
       "      <td>...</td>\n",
       "      <td>...</td>\n",
       "      <td>...</td>\n",
       "    </tr>\n",
       "    <tr>\n",
       "      <th>886</th>\n",
       "      <td>887</td>\n",
       "      <td>0</td>\n",
       "      <td>2</td>\n",
       "      <td>Montvila, Rev. Juozas</td>\n",
       "      <td>male</td>\n",
       "      <td>27.0</td>\n",
       "      <td>0</td>\n",
       "      <td>0</td>\n",
       "      <td>211536</td>\n",
       "      <td>13.0000</td>\n",
       "      <td>NaN</td>\n",
       "      <td>S</td>\n",
       "    </tr>\n",
       "    <tr>\n",
       "      <th>887</th>\n",
       "      <td>888</td>\n",
       "      <td>1</td>\n",
       "      <td>1</td>\n",
       "      <td>Graham, Miss. Margaret Edith</td>\n",
       "      <td>female</td>\n",
       "      <td>19.0</td>\n",
       "      <td>0</td>\n",
       "      <td>0</td>\n",
       "      <td>112053</td>\n",
       "      <td>30.0000</td>\n",
       "      <td>B42</td>\n",
       "      <td>S</td>\n",
       "    </tr>\n",
       "    <tr>\n",
       "      <th>888</th>\n",
       "      <td>889</td>\n",
       "      <td>0</td>\n",
       "      <td>3</td>\n",
       "      <td>Johnston, Miss. Catherine Helen \"Carrie\"</td>\n",
       "      <td>female</td>\n",
       "      <td>NaN</td>\n",
       "      <td>1</td>\n",
       "      <td>2</td>\n",
       "      <td>W./C. 6607</td>\n",
       "      <td>23.4500</td>\n",
       "      <td>NaN</td>\n",
       "      <td>S</td>\n",
       "    </tr>\n",
       "    <tr>\n",
       "      <th>889</th>\n",
       "      <td>890</td>\n",
       "      <td>1</td>\n",
       "      <td>1</td>\n",
       "      <td>Behr, Mr. Karl Howell</td>\n",
       "      <td>male</td>\n",
       "      <td>26.0</td>\n",
       "      <td>0</td>\n",
       "      <td>0</td>\n",
       "      <td>111369</td>\n",
       "      <td>30.0000</td>\n",
       "      <td>C148</td>\n",
       "      <td>C</td>\n",
       "    </tr>\n",
       "    <tr>\n",
       "      <th>890</th>\n",
       "      <td>891</td>\n",
       "      <td>0</td>\n",
       "      <td>3</td>\n",
       "      <td>Dooley, Mr. Patrick</td>\n",
       "      <td>male</td>\n",
       "      <td>32.0</td>\n",
       "      <td>0</td>\n",
       "      <td>0</td>\n",
       "      <td>370376</td>\n",
       "      <td>7.7500</td>\n",
       "      <td>NaN</td>\n",
       "      <td>Q</td>\n",
       "    </tr>\n",
       "  </tbody>\n",
       "</table>\n",
       "<p>891 rows × 12 columns</p>\n",
       "</div>"
      ],
      "text/plain": [
       "     PassengerId  Survived  Pclass  \\\n",
       "0              1         0       3   \n",
       "1              2         1       1   \n",
       "2              3         1       3   \n",
       "3              4         1       1   \n",
       "4              5         0       3   \n",
       "..           ...       ...     ...   \n",
       "886          887         0       2   \n",
       "887          888         1       1   \n",
       "888          889         0       3   \n",
       "889          890         1       1   \n",
       "890          891         0       3   \n",
       "\n",
       "                                                  Name     Sex   Age  SibSp  \\\n",
       "0                              Braund, Mr. Owen Harris    male  22.0      1   \n",
       "1    Cumings, Mrs. John Bradley (Florence Briggs Th...  female  38.0      1   \n",
       "2                               Heikkinen, Miss. Laina  female  26.0      0   \n",
       "3         Futrelle, Mrs. Jacques Heath (Lily May Peel)  female  35.0      1   \n",
       "4                             Allen, Mr. William Henry    male  35.0      0   \n",
       "..                                                 ...     ...   ...    ...   \n",
       "886                              Montvila, Rev. Juozas    male  27.0      0   \n",
       "887                       Graham, Miss. Margaret Edith  female  19.0      0   \n",
       "888           Johnston, Miss. Catherine Helen \"Carrie\"  female   NaN      1   \n",
       "889                              Behr, Mr. Karl Howell    male  26.0      0   \n",
       "890                                Dooley, Mr. Patrick    male  32.0      0   \n",
       "\n",
       "     Parch            Ticket     Fare Cabin Embarked  \n",
       "0        0         A/5 21171   7.2500   NaN        S  \n",
       "1        0          PC 17599  71.2833   C85        C  \n",
       "2        0  STON/O2. 3101282   7.9250   NaN        S  \n",
       "3        0            113803  53.1000  C123        S  \n",
       "4        0            373450   8.0500   NaN        S  \n",
       "..     ...               ...      ...   ...      ...  \n",
       "886      0            211536  13.0000   NaN        S  \n",
       "887      0            112053  30.0000   B42        S  \n",
       "888      2        W./C. 6607  23.4500   NaN        S  \n",
       "889      0            111369  30.0000  C148        C  \n",
       "890      0            370376   7.7500   NaN        Q  \n",
       "\n",
       "[891 rows x 12 columns]"
      ]
     },
     "execution_count": 1,
     "metadata": {},
     "output_type": "execute_result"
    }
   ],
   "source": [
    "import pandas as pd\n",
    "import warnings\n",
    "warnings.filterwarnings(\"ignore\", category=FutureWarning)\n",
    "\n",
    "titanic = pd.read_csv('/kaggle/input/titanic-dataset/Titanic-Dataset.csv')\n",
    "\n",
    "titanic"
   ]
  },
  {
   "cell_type": "code",
   "execution_count": 2,
   "id": "f862c444",
   "metadata": {
    "execution": {
     "iopub.execute_input": "2024-12-27T22:08:50.967625Z",
     "iopub.status.busy": "2024-12-27T22:08:50.967245Z",
     "iopub.status.idle": "2024-12-27T22:08:50.996771Z",
     "shell.execute_reply": "2024-12-27T22:08:50.995738Z"
    },
    "papermill": {
     "duration": 0.039283,
     "end_time": "2024-12-27T22:08:50.998726",
     "exception": false,
     "start_time": "2024-12-27T22:08:50.959443",
     "status": "completed"
    },
    "tags": []
   },
   "outputs": [
    {
     "data": {
      "text/html": [
       "<div>\n",
       "<style scoped>\n",
       "    .dataframe tbody tr th:only-of-type {\n",
       "        vertical-align: middle;\n",
       "    }\n",
       "\n",
       "    .dataframe tbody tr th {\n",
       "        vertical-align: top;\n",
       "    }\n",
       "\n",
       "    .dataframe thead th {\n",
       "        text-align: right;\n",
       "    }\n",
       "</style>\n",
       "<table border=\"1\" class=\"dataframe\">\n",
       "  <thead>\n",
       "    <tr style=\"text-align: right;\">\n",
       "      <th></th>\n",
       "      <th>PassengerId</th>\n",
       "      <th>Survived</th>\n",
       "      <th>Pclass</th>\n",
       "      <th>Age</th>\n",
       "      <th>SibSp</th>\n",
       "      <th>Parch</th>\n",
       "      <th>Fare</th>\n",
       "    </tr>\n",
       "  </thead>\n",
       "  <tbody>\n",
       "    <tr>\n",
       "      <th>count</th>\n",
       "      <td>891.000000</td>\n",
       "      <td>891.000000</td>\n",
       "      <td>891.000000</td>\n",
       "      <td>714.000000</td>\n",
       "      <td>891.000000</td>\n",
       "      <td>891.000000</td>\n",
       "      <td>891.000000</td>\n",
       "    </tr>\n",
       "    <tr>\n",
       "      <th>mean</th>\n",
       "      <td>446.000000</td>\n",
       "      <td>0.383838</td>\n",
       "      <td>2.308642</td>\n",
       "      <td>29.699118</td>\n",
       "      <td>0.523008</td>\n",
       "      <td>0.381594</td>\n",
       "      <td>32.204208</td>\n",
       "    </tr>\n",
       "    <tr>\n",
       "      <th>std</th>\n",
       "      <td>257.353842</td>\n",
       "      <td>0.486592</td>\n",
       "      <td>0.836071</td>\n",
       "      <td>14.526497</td>\n",
       "      <td>1.102743</td>\n",
       "      <td>0.806057</td>\n",
       "      <td>49.693429</td>\n",
       "    </tr>\n",
       "    <tr>\n",
       "      <th>min</th>\n",
       "      <td>1.000000</td>\n",
       "      <td>0.000000</td>\n",
       "      <td>1.000000</td>\n",
       "      <td>0.420000</td>\n",
       "      <td>0.000000</td>\n",
       "      <td>0.000000</td>\n",
       "      <td>0.000000</td>\n",
       "    </tr>\n",
       "    <tr>\n",
       "      <th>25%</th>\n",
       "      <td>223.500000</td>\n",
       "      <td>0.000000</td>\n",
       "      <td>2.000000</td>\n",
       "      <td>20.125000</td>\n",
       "      <td>0.000000</td>\n",
       "      <td>0.000000</td>\n",
       "      <td>7.910400</td>\n",
       "    </tr>\n",
       "    <tr>\n",
       "      <th>50%</th>\n",
       "      <td>446.000000</td>\n",
       "      <td>0.000000</td>\n",
       "      <td>3.000000</td>\n",
       "      <td>28.000000</td>\n",
       "      <td>0.000000</td>\n",
       "      <td>0.000000</td>\n",
       "      <td>14.454200</td>\n",
       "    </tr>\n",
       "    <tr>\n",
       "      <th>75%</th>\n",
       "      <td>668.500000</td>\n",
       "      <td>1.000000</td>\n",
       "      <td>3.000000</td>\n",
       "      <td>38.000000</td>\n",
       "      <td>1.000000</td>\n",
       "      <td>0.000000</td>\n",
       "      <td>31.000000</td>\n",
       "    </tr>\n",
       "    <tr>\n",
       "      <th>max</th>\n",
       "      <td>891.000000</td>\n",
       "      <td>1.000000</td>\n",
       "      <td>3.000000</td>\n",
       "      <td>80.000000</td>\n",
       "      <td>8.000000</td>\n",
       "      <td>6.000000</td>\n",
       "      <td>512.329200</td>\n",
       "    </tr>\n",
       "  </tbody>\n",
       "</table>\n",
       "</div>"
      ],
      "text/plain": [
       "       PassengerId    Survived      Pclass         Age       SibSp  \\\n",
       "count   891.000000  891.000000  891.000000  714.000000  891.000000   \n",
       "mean    446.000000    0.383838    2.308642   29.699118    0.523008   \n",
       "std     257.353842    0.486592    0.836071   14.526497    1.102743   \n",
       "min       1.000000    0.000000    1.000000    0.420000    0.000000   \n",
       "25%     223.500000    0.000000    2.000000   20.125000    0.000000   \n",
       "50%     446.000000    0.000000    3.000000   28.000000    0.000000   \n",
       "75%     668.500000    1.000000    3.000000   38.000000    1.000000   \n",
       "max     891.000000    1.000000    3.000000   80.000000    8.000000   \n",
       "\n",
       "            Parch        Fare  \n",
       "count  891.000000  891.000000  \n",
       "mean     0.381594   32.204208  \n",
       "std      0.806057   49.693429  \n",
       "min      0.000000    0.000000  \n",
       "25%      0.000000    7.910400  \n",
       "50%      0.000000   14.454200  \n",
       "75%      0.000000   31.000000  \n",
       "max      6.000000  512.329200  "
      ]
     },
     "execution_count": 2,
     "metadata": {},
     "output_type": "execute_result"
    }
   ],
   "source": [
    "titanic.describe()"
   ]
  },
  {
   "cell_type": "markdown",
   "id": "dc87677a",
   "metadata": {
    "papermill": {
     "duration": 0.007135,
     "end_time": "2024-12-27T22:08:51.013853",
     "exception": false,
     "start_time": "2024-12-27T22:08:51.006718",
     "status": "completed"
    },
    "tags": []
   },
   "source": [
    "## DATA PREPROCESSING\n",
    "\n",
    "## Handling missing values in Age and Embarked and we will drop the Cabin because it has lot of missing values"
   ]
  },
  {
   "cell_type": "markdown",
   "id": "b8d33ba2",
   "metadata": {
    "papermill": {
     "duration": 0.006971,
     "end_time": "2024-12-27T22:08:51.028552",
     "exception": false,
     "start_time": "2024-12-27T22:08:51.021581",
     "status": "completed"
    },
    "tags": []
   },
   "source": [
    "### In this missing values, for the Age, we fill null values with the median age of the ages.\n",
    "### and for the Embarked, we fill it by changing the value using the mode and represent it with 0"
   ]
  },
  {
   "cell_type": "code",
   "execution_count": 3,
   "id": "f4dbd0b1",
   "metadata": {
    "execution": {
     "iopub.execute_input": "2024-12-27T22:08:51.044350Z",
     "iopub.status.busy": "2024-12-27T22:08:51.043999Z",
     "iopub.status.idle": "2024-12-27T22:08:51.062419Z",
     "shell.execute_reply": "2024-12-27T22:08:51.061651Z"
    },
    "papermill": {
     "duration": 0.028184,
     "end_time": "2024-12-27T22:08:51.064108",
     "exception": false,
     "start_time": "2024-12-27T22:08:51.035924",
     "status": "completed"
    },
    "tags": []
   },
   "outputs": [],
   "source": [
    "titanic['Age'].fillna(titanic['Age'].median(), inplace=True)\n",
    "\n",
    "titanic['Embarked'].fillna(titanic['Embarked'].mode()[0], inplace=True)\n",
    "\n",
    "titanic = titanic.drop('Cabin', axis=1)"
   ]
  },
  {
   "cell_type": "markdown",
   "id": "f3049086",
   "metadata": {
    "papermill": {
     "duration": 0.006792,
     "end_time": "2024-12-27T22:08:51.078250",
     "exception": false,
     "start_time": "2024-12-27T22:08:51.071458",
     "status": "completed"
    },
    "tags": []
   },
   "source": [
    "## Encode Categorical Variables\n",
    "\n",
    "### We are going convert the Sex column into numerical values; Male = 0 and Female = 1 \n",
    "### and also use one-hot encoding for the Embarked"
   ]
  },
  {
   "cell_type": "code",
   "execution_count": 4,
   "id": "268cb4b0",
   "metadata": {
    "execution": {
     "iopub.execute_input": "2024-12-27T22:08:51.094012Z",
     "iopub.status.busy": "2024-12-27T22:08:51.093658Z",
     "iopub.status.idle": "2024-12-27T22:08:51.104055Z",
     "shell.execute_reply": "2024-12-27T22:08:51.103080Z"
    },
    "papermill": {
     "duration": 0.02036,
     "end_time": "2024-12-27T22:08:51.105682",
     "exception": false,
     "start_time": "2024-12-27T22:08:51.085322",
     "status": "completed"
    },
    "tags": []
   },
   "outputs": [],
   "source": [
    "titanic['Sex'] = titanic['Sex'].map({'male': 0, 'female': 1})\n",
    "\n",
    "titanic = pd.get_dummies(titanic, columns=['Embarked'], drop_first=True)"
   ]
  },
  {
   "cell_type": "markdown",
   "id": "63f6094d",
   "metadata": {
    "papermill": {
     "duration": 0.006874,
     "end_time": "2024-12-27T22:08:51.120483",
     "exception": false,
     "start_time": "2024-12-27T22:08:51.113609",
     "status": "completed"
    },
    "tags": []
   },
   "source": [
    "### Now we drop other columns which are also irrelevant columns"
   ]
  },
  {
   "cell_type": "code",
   "execution_count": 5,
   "id": "3d47cbb7",
   "metadata": {
    "execution": {
     "iopub.execute_input": "2024-12-27T22:08:51.136282Z",
     "iopub.status.busy": "2024-12-27T22:08:51.135896Z",
     "iopub.status.idle": "2024-12-27T22:08:51.141099Z",
     "shell.execute_reply": "2024-12-27T22:08:51.140098Z"
    },
    "papermill": {
     "duration": 0.01504,
     "end_time": "2024-12-27T22:08:51.142690",
     "exception": false,
     "start_time": "2024-12-27T22:08:51.127650",
     "status": "completed"
    },
    "tags": []
   },
   "outputs": [],
   "source": [
    "titanic = titanic.drop(['PassengerId', 'Name', 'Ticket'], axis=1)"
   ]
  },
  {
   "cell_type": "markdown",
   "id": "db538c23",
   "metadata": {
    "papermill": {
     "duration": 0.006768,
     "end_time": "2024-12-27T22:08:51.156668",
     "exception": false,
     "start_time": "2024-12-27T22:08:51.149900",
     "status": "completed"
    },
    "tags": []
   },
   "source": [
    "### Now lets have a look at the the dataset now."
   ]
  },
  {
   "cell_type": "code",
   "execution_count": 6,
   "id": "220e71e0",
   "metadata": {
    "execution": {
     "iopub.execute_input": "2024-12-27T22:08:51.172088Z",
     "iopub.status.busy": "2024-12-27T22:08:51.171724Z",
     "iopub.status.idle": "2024-12-27T22:08:51.183321Z",
     "shell.execute_reply": "2024-12-27T22:08:51.182155Z"
    },
    "papermill": {
     "duration": 0.021408,
     "end_time": "2024-12-27T22:08:51.185257",
     "exception": false,
     "start_time": "2024-12-27T22:08:51.163849",
     "status": "completed"
    },
    "tags": []
   },
   "outputs": [
    {
     "data": {
      "text/html": [
       "<div>\n",
       "<style scoped>\n",
       "    .dataframe tbody tr th:only-of-type {\n",
       "        vertical-align: middle;\n",
       "    }\n",
       "\n",
       "    .dataframe tbody tr th {\n",
       "        vertical-align: top;\n",
       "    }\n",
       "\n",
       "    .dataframe thead th {\n",
       "        text-align: right;\n",
       "    }\n",
       "</style>\n",
       "<table border=\"1\" class=\"dataframe\">\n",
       "  <thead>\n",
       "    <tr style=\"text-align: right;\">\n",
       "      <th></th>\n",
       "      <th>Survived</th>\n",
       "      <th>Pclass</th>\n",
       "      <th>Sex</th>\n",
       "      <th>Age</th>\n",
       "      <th>SibSp</th>\n",
       "      <th>Parch</th>\n",
       "      <th>Fare</th>\n",
       "      <th>Embarked_Q</th>\n",
       "      <th>Embarked_S</th>\n",
       "    </tr>\n",
       "  </thead>\n",
       "  <tbody>\n",
       "    <tr>\n",
       "      <th>0</th>\n",
       "      <td>0</td>\n",
       "      <td>3</td>\n",
       "      <td>0</td>\n",
       "      <td>22.0</td>\n",
       "      <td>1</td>\n",
       "      <td>0</td>\n",
       "      <td>7.2500</td>\n",
       "      <td>False</td>\n",
       "      <td>True</td>\n",
       "    </tr>\n",
       "    <tr>\n",
       "      <th>1</th>\n",
       "      <td>1</td>\n",
       "      <td>1</td>\n",
       "      <td>1</td>\n",
       "      <td>38.0</td>\n",
       "      <td>1</td>\n",
       "      <td>0</td>\n",
       "      <td>71.2833</td>\n",
       "      <td>False</td>\n",
       "      <td>False</td>\n",
       "    </tr>\n",
       "    <tr>\n",
       "      <th>2</th>\n",
       "      <td>1</td>\n",
       "      <td>3</td>\n",
       "      <td>1</td>\n",
       "      <td>26.0</td>\n",
       "      <td>0</td>\n",
       "      <td>0</td>\n",
       "      <td>7.9250</td>\n",
       "      <td>False</td>\n",
       "      <td>True</td>\n",
       "    </tr>\n",
       "    <tr>\n",
       "      <th>3</th>\n",
       "      <td>1</td>\n",
       "      <td>1</td>\n",
       "      <td>1</td>\n",
       "      <td>35.0</td>\n",
       "      <td>1</td>\n",
       "      <td>0</td>\n",
       "      <td>53.1000</td>\n",
       "      <td>False</td>\n",
       "      <td>True</td>\n",
       "    </tr>\n",
       "    <tr>\n",
       "      <th>4</th>\n",
       "      <td>0</td>\n",
       "      <td>3</td>\n",
       "      <td>0</td>\n",
       "      <td>35.0</td>\n",
       "      <td>0</td>\n",
       "      <td>0</td>\n",
       "      <td>8.0500</td>\n",
       "      <td>False</td>\n",
       "      <td>True</td>\n",
       "    </tr>\n",
       "  </tbody>\n",
       "</table>\n",
       "</div>"
      ],
      "text/plain": [
       "   Survived  Pclass  Sex   Age  SibSp  Parch     Fare  Embarked_Q  Embarked_S\n",
       "0         0       3    0  22.0      1      0   7.2500       False        True\n",
       "1         1       1    1  38.0      1      0  71.2833       False       False\n",
       "2         1       3    1  26.0      0      0   7.9250       False        True\n",
       "3         1       1    1  35.0      1      0  53.1000       False        True\n",
       "4         0       3    0  35.0      0      0   8.0500       False        True"
      ]
     },
     "execution_count": 6,
     "metadata": {},
     "output_type": "execute_result"
    }
   ],
   "source": [
    "titanic.head()"
   ]
  },
  {
   "cell_type": "code",
   "execution_count": 7,
   "id": "822292de",
   "metadata": {
    "execution": {
     "iopub.execute_input": "2024-12-27T22:08:51.201626Z",
     "iopub.status.busy": "2024-12-27T22:08:51.201251Z",
     "iopub.status.idle": "2024-12-27T22:08:51.206772Z",
     "shell.execute_reply": "2024-12-27T22:08:51.205947Z"
    },
    "papermill": {
     "duration": 0.015335,
     "end_time": "2024-12-27T22:08:51.208237",
     "exception": false,
     "start_time": "2024-12-27T22:08:51.192902",
     "status": "completed"
    },
    "tags": []
   },
   "outputs": [
    {
     "data": {
      "text/plain": [
       "Index(['Survived', 'Pclass', 'Sex', 'Age', 'SibSp', 'Parch', 'Fare',\n",
       "       'Embarked_Q', 'Embarked_S'],\n",
       "      dtype='object')"
      ]
     },
     "execution_count": 7,
     "metadata": {},
     "output_type": "execute_result"
    }
   ],
   "source": [
    "titanic.columns"
   ]
  },
  {
   "cell_type": "code",
   "execution_count": 8,
   "id": "542741a8",
   "metadata": {
    "execution": {
     "iopub.execute_input": "2024-12-27T22:08:51.224303Z",
     "iopub.status.busy": "2024-12-27T22:08:51.223983Z",
     "iopub.status.idle": "2024-12-27T22:08:51.231235Z",
     "shell.execute_reply": "2024-12-27T22:08:51.229869Z"
    },
    "papermill": {
     "duration": 0.01724,
     "end_time": "2024-12-27T22:08:51.232979",
     "exception": false,
     "start_time": "2024-12-27T22:08:51.215739",
     "status": "completed"
    },
    "tags": []
   },
   "outputs": [
    {
     "data": {
      "text/plain": [
       "Survived        int64\n",
       "Pclass          int64\n",
       "Sex             int64\n",
       "Age           float64\n",
       "SibSp           int64\n",
       "Parch           int64\n",
       "Fare          float64\n",
       "Embarked_Q       bool\n",
       "Embarked_S       bool\n",
       "dtype: object"
      ]
     },
     "execution_count": 8,
     "metadata": {},
     "output_type": "execute_result"
    }
   ],
   "source": [
    "titanic.dtypes"
   ]
  },
  {
   "cell_type": "code",
   "execution_count": 9,
   "id": "98ea870e",
   "metadata": {
    "execution": {
     "iopub.execute_input": "2024-12-27T22:08:51.251334Z",
     "iopub.status.busy": "2024-12-27T22:08:51.250990Z",
     "iopub.status.idle": "2024-12-27T22:08:51.257533Z",
     "shell.execute_reply": "2024-12-27T22:08:51.256722Z"
    },
    "papermill": {
     "duration": 0.016296,
     "end_time": "2024-12-27T22:08:51.259010",
     "exception": false,
     "start_time": "2024-12-27T22:08:51.242714",
     "status": "completed"
    },
    "tags": []
   },
   "outputs": [
    {
     "data": {
      "text/plain": [
       "Survived      0\n",
       "Pclass        0\n",
       "Sex           0\n",
       "Age           0\n",
       "SibSp         0\n",
       "Parch         0\n",
       "Fare          0\n",
       "Embarked_Q    0\n",
       "Embarked_S    0\n",
       "dtype: int64"
      ]
     },
     "execution_count": 9,
     "metadata": {},
     "output_type": "execute_result"
    }
   ],
   "source": [
    "titanic.isnull().sum()"
   ]
  },
  {
   "cell_type": "code",
   "execution_count": 10,
   "id": "279c0ce0",
   "metadata": {
    "execution": {
     "iopub.execute_input": "2024-12-27T22:08:51.275129Z",
     "iopub.status.busy": "2024-12-27T22:08:51.274769Z",
     "iopub.status.idle": "2024-12-27T22:08:51.289025Z",
     "shell.execute_reply": "2024-12-27T22:08:51.287747Z"
    },
    "papermill": {
     "duration": 0.024198,
     "end_time": "2024-12-27T22:08:51.290715",
     "exception": false,
     "start_time": "2024-12-27T22:08:51.266517",
     "status": "completed"
    },
    "tags": []
   },
   "outputs": [
    {
     "name": "stdout",
     "output_type": "stream",
     "text": [
      "<class 'pandas.core.frame.DataFrame'>\n",
      "RangeIndex: 891 entries, 0 to 890\n",
      "Data columns (total 9 columns):\n",
      " #   Column      Non-Null Count  Dtype  \n",
      "---  ------      --------------  -----  \n",
      " 0   Survived    891 non-null    int64  \n",
      " 1   Pclass      891 non-null    int64  \n",
      " 2   Sex         891 non-null    int64  \n",
      " 3   Age         891 non-null    float64\n",
      " 4   SibSp       891 non-null    int64  \n",
      " 5   Parch       891 non-null    int64  \n",
      " 6   Fare        891 non-null    float64\n",
      " 7   Embarked_Q  891 non-null    bool   \n",
      " 8   Embarked_S  891 non-null    bool   \n",
      "dtypes: bool(2), float64(2), int64(5)\n",
      "memory usage: 50.6 KB\n"
     ]
    }
   ],
   "source": [
    "titanic.info()"
   ]
  },
  {
   "cell_type": "markdown",
   "id": "fb0de935",
   "metadata": {
    "papermill": {
     "duration": 0.007426,
     "end_time": "2024-12-27T22:08:51.306145",
     "exception": false,
     "start_time": "2024-12-27T22:08:51.298719",
     "status": "completed"
    },
    "tags": []
   },
   "source": [
    "## Exploratory Data Analysis (EDA)"
   ]
  },
  {
   "cell_type": "markdown",
   "id": "af85b039",
   "metadata": {
    "papermill": {
     "duration": 0.007879,
     "end_time": "2024-12-27T22:08:51.322253",
     "exception": false,
     "start_time": "2024-12-27T22:08:51.314374",
     "status": "completed"
    },
    "tags": []
   },
   "source": [
    "### Visualize Survival Rates\n",
    "\n",
    "### Now we plot survival rates by socio-economic status; Pclass, age, survival and sex using seaborn and matplotlib libraries"
   ]
  },
  {
   "cell_type": "code",
   "execution_count": 11,
   "id": "b88762fe",
   "metadata": {
    "execution": {
     "iopub.execute_input": "2024-12-27T22:08:51.339109Z",
     "iopub.status.busy": "2024-12-27T22:08:51.338751Z",
     "iopub.status.idle": "2024-12-27T22:08:53.108546Z",
     "shell.execute_reply": "2024-12-27T22:08:53.107448Z"
    },
    "papermill": {
     "duration": 1.780111,
     "end_time": "2024-12-27T22:08:53.110176",
     "exception": false,
     "start_time": "2024-12-27T22:08:51.330065",
     "status": "completed"
    },
    "tags": []
   },
   "outputs": [
    {
     "data": {
      "text/plain": [
       "<Axes: xlabel='Age', ylabel='Count'>"
      ]
     },
     "execution_count": 11,
     "metadata": {},
     "output_type": "execute_result"
    },
    {
     "data": {
      "image/png": "[encoded data removed]",
      "text/plain": [
       "<Figure size 640x480 with 1 Axes>"
      ]
     },
     "metadata": {},
     "output_type": "display_data"
    }
   ],
   "source": [
    "import seaborn as sns\n",
    "import matplotlib.pyplot as plt\n",
    "\n",
    "sns.histplot(titanic[titanic['Survived'] ==1]['Age'], kde=True, bins=30)"
   ]
  },
  {
   "cell_type": "code",
   "execution_count": 12,
   "id": "cabc542c",
   "metadata": {
    "execution": {
     "iopub.execute_input": "2024-12-27T22:08:53.128662Z",
     "iopub.status.busy": "2024-12-27T22:08:53.128164Z",
     "iopub.status.idle": "2024-12-27T22:08:53.351925Z",
     "shell.execute_reply": "2024-12-27T22:08:53.350883Z"
    },
    "papermill": {
     "duration": 0.234778,
     "end_time": "2024-12-27T22:08:53.353629",
     "exception": false,
     "start_time": "2024-12-27T22:08:53.118851",
     "status": "completed"
    },
    "tags": []
   },
   "outputs": [
    {
     "data": {
      "image/png": "[encoded data removed]",
      "text/plain": [
       "<Figure size 640x480 with 1 Axes>"
      ]
     },
     "metadata": {},
     "output_type": "display_data"
    }
   ],
   "source": [
    "class_survival = titanic.groupby('Pclass')['Survived'].mean()\n",
    "class_survival.plot(kind='bar')\n",
    "plt.title(\"Survival Rates by Passenger Class\")\n",
    "plt.ylabel(\"survival Rate\")\n",
    "plt.xlabel(\"Passenger Class\")\n",
    "plt.show()"
   ]
  },
  {
   "cell_type": "code",
   "execution_count": 13,
   "id": "e256abfc",
   "metadata": {
    "execution": {
     "iopub.execute_input": "2024-12-27T22:08:53.373687Z",
     "iopub.status.busy": "2024-12-27T22:08:53.373273Z",
     "iopub.status.idle": "2024-12-27T22:08:53.585907Z",
     "shell.execute_reply": "2024-12-27T22:08:53.584880Z"
    },
    "papermill": {
     "duration": 0.224745,
     "end_time": "2024-12-27T22:08:53.587509",
     "exception": false,
     "start_time": "2024-12-27T22:08:53.362764",
     "status": "completed"
    },
    "tags": []
   },
   "outputs": [
    {
     "data": {
      "image/png": "[encoded data removed]",
      "text/plain": [
       "<Figure size 640x480 with 1 Axes>"
      ]
     },
     "metadata": {},
     "output_type": "display_data"
    }
   ],
   "source": [
    "Sex_survival = titanic.groupby('Sex')['Survived'].mean()\n",
    "Sex_survival.plot(kind='bar')\n",
    "plt.title(\"Survival Rates by Gender\")\n",
    "plt.ylabel(\"survival Rate\")\n",
    "plt.xlabel(\"Gender (0=Male, 1=Female)\")\n",
    "plt.show()"
   ]
  },
  {
   "cell_type": "markdown",
   "id": "9d54db7e",
   "metadata": {
    "papermill": {
     "duration": 0.008897,
     "end_time": "2024-12-27T22:08:53.605863",
     "exception": false,
     "start_time": "2024-12-27T22:08:53.596966",
     "status": "completed"
    },
    "tags": []
   },
   "source": [
    "### Analyzing the Correlation \n",
    "\n",
    "### Using the heatmap to see which factors are strongly related to the survival"
   ]
  },
  {
   "cell_type": "code",
   "execution_count": 14,
   "id": "3befb509",
   "metadata": {
    "execution": {
     "iopub.execute_input": "2024-12-27T22:08:53.625743Z",
     "iopub.status.busy": "2024-12-27T22:08:53.625352Z",
     "iopub.status.idle": "2024-12-27T22:08:54.180495Z",
     "shell.execute_reply": "2024-12-27T22:08:54.179488Z"
    },
    "papermill": {
     "duration": 0.566831,
     "end_time": "2024-12-27T22:08:54.182106",
     "exception": false,
     "start_time": "2024-12-27T22:08:53.615275",
     "status": "completed"
    },
    "tags": []
   },
   "outputs": [
    {
     "data": {
      "text/plain": [
       "<Axes: >"
      ]
     },
     "execution_count": 14,
     "metadata": {},
     "output_type": "execute_result"
    },
    {
     "data": {
      "image/png": "[encoded data removed]",
      "text/plain": [
       "<Figure size 640x480 with 2 Axes>"
      ]
     },
     "metadata": {},
     "output_type": "display_data"
    }
   ],
   "source": [
    "sns.heatmap(titanic.corr(), annot=True, cmap='coolwarm')"
   ]
  },
  {
   "cell_type": "markdown",
   "id": "52591e3e",
   "metadata": {
    "papermill": {
     "duration": 0.010762,
     "end_time": "2024-12-27T22:08:54.204806",
     "exception": false,
     "start_time": "2024-12-27T22:08:54.194044",
     "status": "completed"
    },
    "tags": []
   },
   "source": [
    "## Feature Engineering\n",
    "\n",
    "### Here we to create a new feature by putting members of each family together. This to know the number of families who where in the Titanic Ship\n",
    "\n",
    "### Family size = SibSp + Parch + 1\n",
    "### SibSp means the Siblings/Spouses in the ship\n",
    "### Parch means Parents/Childern in the ship\n",
    "### +1 for the passenger themselves"
   ]
  },
  {
   "cell_type": "code",
   "execution_count": 15,
   "id": "f9723981",
   "metadata": {
    "execution": {
     "iopub.execute_input": "2024-12-27T22:08:54.228706Z",
     "iopub.status.busy": "2024-12-27T22:08:54.228323Z",
     "iopub.status.idle": "2024-12-27T22:08:54.236711Z",
     "shell.execute_reply": "2024-12-27T22:08:54.235712Z"
    },
    "papermill": {
     "duration": 0.022299,
     "end_time": "2024-12-27T22:08:54.238215",
     "exception": false,
     "start_time": "2024-12-27T22:08:54.215916",
     "status": "completed"
    },
    "tags": []
   },
   "outputs": [
    {
     "data": {
      "text/plain": [
       "0      2\n",
       "1      2\n",
       "2      1\n",
       "3      2\n",
       "4      1\n",
       "      ..\n",
       "886    1\n",
       "887    1\n",
       "888    4\n",
       "889    1\n",
       "890    1\n",
       "Name: Family_Size, Length: 891, dtype: int64"
      ]
     },
     "execution_count": 15,
     "metadata": {},
     "output_type": "execute_result"
    }
   ],
   "source": [
    "titanic['Family_Size'] = titanic['SibSp'] + titanic['Parch'] + 1\n",
    "\n",
    "titanic.Family_Size"
   ]
  },
  {
   "cell_type": "markdown",
   "id": "9471f009",
   "metadata": {
    "papermill": {
     "duration": 0.010971,
     "end_time": "2024-12-27T22:08:54.260500",
     "exception": false,
     "start_time": "2024-12-27T22:08:54.249529",
     "status": "completed"
    },
    "tags": []
   },
   "source": [
    "### if the passenger is alone in the ship"
   ]
  },
  {
   "cell_type": "code",
   "execution_count": 16,
   "id": "63035c38",
   "metadata": {
    "execution": {
     "iopub.execute_input": "2024-12-27T22:08:54.284215Z",
     "iopub.status.busy": "2024-12-27T22:08:54.283821Z",
     "iopub.status.idle": "2024-12-27T22:08:54.291921Z",
     "shell.execute_reply": "2024-12-27T22:08:54.291005Z"
    },
    "papermill": {
     "duration": 0.021691,
     "end_time": "2024-12-27T22:08:54.293468",
     "exception": false,
     "start_time": "2024-12-27T22:08:54.271777",
     "status": "completed"
    },
    "tags": []
   },
   "outputs": [
    {
     "data": {
      "text/plain": [
       "0      0\n",
       "1      0\n",
       "2      1\n",
       "3      0\n",
       "4      1\n",
       "      ..\n",
       "886    1\n",
       "887    1\n",
       "888    0\n",
       "889    1\n",
       "890    1\n",
       "Name: Is_Alone, Length: 891, dtype: int64"
      ]
     },
     "execution_count": 16,
     "metadata": {},
     "output_type": "execute_result"
    }
   ],
   "source": [
    "titanic['Is_Alone'] = (titanic['Family_Size'] == 1).astype(int)\n",
    "\n",
    "titanic.Is_Alone"
   ]
  },
  {
   "cell_type": "markdown",
   "id": "8f89edb1",
   "metadata": {
    "papermill": {
     "duration": 0.011019,
     "end_time": "2024-12-27T22:08:54.316160",
     "exception": false,
     "start_time": "2024-12-27T22:08:54.305141",
     "status": "completed"
    },
    "tags": []
   },
   "source": [
    "### Bar chart to see the survival rate per family size"
   ]
  },
  {
   "cell_type": "code",
   "execution_count": 17,
   "id": "2656967b",
   "metadata": {
    "execution": {
     "iopub.execute_input": "2024-12-27T22:08:54.339985Z",
     "iopub.status.busy": "2024-12-27T22:08:54.339625Z",
     "iopub.status.idle": "2024-12-27T22:08:54.577675Z",
     "shell.execute_reply": "2024-12-27T22:08:54.576602Z"
    },
    "papermill": {
     "duration": 0.251993,
     "end_time": "2024-12-27T22:08:54.579390",
     "exception": false,
     "start_time": "2024-12-27T22:08:54.327397",
     "status": "completed"
    },
    "tags": []
   },
   "outputs": [
    {
     "data": {
      "image/png": "[encoded data removed]",
      "text/plain": [
       "<Figure size 640x480 with 1 Axes>"
      ]
     },
     "metadata": {},
     "output_type": "display_data"
    }
   ],
   "source": [
    "Family_survival = titanic.groupby('Family_Size')['Survived'].mean()\n",
    "Family_survival.plot(kind='bar')\n",
    "plt.title(\"Survival Rates by Family Size\")\n",
    "plt.ylabel(\"survival Rate\")\n",
    "plt.xlabel(\"Family Size\")\n",
    "plt.show()"
   ]
  },
  {
   "cell_type": "markdown",
   "id": "d28e67be",
   "metadata": {
    "papermill": {
     "duration": 0.011738,
     "end_time": "2024-12-27T22:08:54.603135",
     "exception": false,
     "start_time": "2024-12-27T22:08:54.591397",
     "status": "completed"
    },
    "tags": []
   },
   "source": [
    "### New look of the dataset"
   ]
  },
  {
   "cell_type": "code",
   "execution_count": 18,
   "id": "4a1c0aeb",
   "metadata": {
    "execution": {
     "iopub.execute_input": "2024-12-27T22:08:54.628190Z",
     "iopub.status.busy": "2024-12-27T22:08:54.627817Z",
     "iopub.status.idle": "2024-12-27T22:08:54.643792Z",
     "shell.execute_reply": "2024-12-27T22:08:54.642780Z"
    },
    "papermill": {
     "duration": 0.030204,
     "end_time": "2024-12-27T22:08:54.645291",
     "exception": false,
     "start_time": "2024-12-27T22:08:54.615087",
     "status": "completed"
    },
    "tags": []
   },
   "outputs": [
    {
     "data": {
      "text/html": [
       "<div>\n",
       "<style scoped>\n",
       "    .dataframe tbody tr th:only-of-type {\n",
       "        vertical-align: middle;\n",
       "    }\n",
       "\n",
       "    .dataframe tbody tr th {\n",
       "        vertical-align: top;\n",
       "    }\n",
       "\n",
       "    .dataframe thead th {\n",
       "        text-align: right;\n",
       "    }\n",
       "</style>\n",
       "<table border=\"1\" class=\"dataframe\">\n",
       "  <thead>\n",
       "    <tr style=\"text-align: right;\">\n",
       "      <th></th>\n",
       "      <th>Survived</th>\n",
       "      <th>Pclass</th>\n",
       "      <th>Sex</th>\n",
       "      <th>Age</th>\n",
       "      <th>SibSp</th>\n",
       "      <th>Parch</th>\n",
       "      <th>Fare</th>\n",
       "      <th>Embarked_Q</th>\n",
       "      <th>Embarked_S</th>\n",
       "      <th>Family_Size</th>\n",
       "      <th>Is_Alone</th>\n",
       "    </tr>\n",
       "  </thead>\n",
       "  <tbody>\n",
       "    <tr>\n",
       "      <th>0</th>\n",
       "      <td>0</td>\n",
       "      <td>3</td>\n",
       "      <td>0</td>\n",
       "      <td>22.0</td>\n",
       "      <td>1</td>\n",
       "      <td>0</td>\n",
       "      <td>7.2500</td>\n",
       "      <td>False</td>\n",
       "      <td>True</td>\n",
       "      <td>2</td>\n",
       "      <td>0</td>\n",
       "    </tr>\n",
       "    <tr>\n",
       "      <th>1</th>\n",
       "      <td>1</td>\n",
       "      <td>1</td>\n",
       "      <td>1</td>\n",
       "      <td>38.0</td>\n",
       "      <td>1</td>\n",
       "      <td>0</td>\n",
       "      <td>71.2833</td>\n",
       "      <td>False</td>\n",
       "      <td>False</td>\n",
       "      <td>2</td>\n",
       "      <td>0</td>\n",
       "    </tr>\n",
       "    <tr>\n",
       "      <th>2</th>\n",
       "      <td>1</td>\n",
       "      <td>3</td>\n",
       "      <td>1</td>\n",
       "      <td>26.0</td>\n",
       "      <td>0</td>\n",
       "      <td>0</td>\n",
       "      <td>7.9250</td>\n",
       "      <td>False</td>\n",
       "      <td>True</td>\n",
       "      <td>1</td>\n",
       "      <td>1</td>\n",
       "    </tr>\n",
       "    <tr>\n",
       "      <th>3</th>\n",
       "      <td>1</td>\n",
       "      <td>1</td>\n",
       "      <td>1</td>\n",
       "      <td>35.0</td>\n",
       "      <td>1</td>\n",
       "      <td>0</td>\n",
       "      <td>53.1000</td>\n",
       "      <td>False</td>\n",
       "      <td>True</td>\n",
       "      <td>2</td>\n",
       "      <td>0</td>\n",
       "    </tr>\n",
       "    <tr>\n",
       "      <th>4</th>\n",
       "      <td>0</td>\n",
       "      <td>3</td>\n",
       "      <td>0</td>\n",
       "      <td>35.0</td>\n",
       "      <td>0</td>\n",
       "      <td>0</td>\n",
       "      <td>8.0500</td>\n",
       "      <td>False</td>\n",
       "      <td>True</td>\n",
       "      <td>1</td>\n",
       "      <td>1</td>\n",
       "    </tr>\n",
       "    <tr>\n",
       "      <th>...</th>\n",
       "      <td>...</td>\n",
       "      <td>...</td>\n",
       "      <td>...</td>\n",
       "      <td>...</td>\n",
       "      <td>...</td>\n",
       "      <td>...</td>\n",
       "      <td>...</td>\n",
       "      <td>...</td>\n",
       "      <td>...</td>\n",
       "      <td>...</td>\n",
       "      <td>...</td>\n",
       "    </tr>\n",
       "    <tr>\n",
       "      <th>886</th>\n",
       "      <td>0</td>\n",
       "      <td>2</td>\n",
       "      <td>0</td>\n",
       "      <td>27.0</td>\n",
       "      <td>0</td>\n",
       "      <td>0</td>\n",
       "      <td>13.0000</td>\n",
       "      <td>False</td>\n",
       "      <td>True</td>\n",
       "      <td>1</td>\n",
       "      <td>1</td>\n",
       "    </tr>\n",
       "    <tr>\n",
       "      <th>887</th>\n",
       "      <td>1</td>\n",
       "      <td>1</td>\n",
       "      <td>1</td>\n",
       "      <td>19.0</td>\n",
       "      <td>0</td>\n",
       "      <td>0</td>\n",
       "      <td>30.0000</td>\n",
       "      <td>False</td>\n",
       "      <td>True</td>\n",
       "      <td>1</td>\n",
       "      <td>1</td>\n",
       "    </tr>\n",
       "    <tr>\n",
       "      <th>888</th>\n",
       "      <td>0</td>\n",
       "      <td>3</td>\n",
       "      <td>1</td>\n",
       "      <td>28.0</td>\n",
       "      <td>1</td>\n",
       "      <td>2</td>\n",
       "      <td>23.4500</td>\n",
       "      <td>False</td>\n",
       "      <td>True</td>\n",
       "      <td>4</td>\n",
       "      <td>0</td>\n",
       "    </tr>\n",
       "    <tr>\n",
       "      <th>889</th>\n",
       "      <td>1</td>\n",
       "      <td>1</td>\n",
       "      <td>0</td>\n",
       "      <td>26.0</td>\n",
       "      <td>0</td>\n",
       "      <td>0</td>\n",
       "      <td>30.0000</td>\n",
       "      <td>False</td>\n",
       "      <td>False</td>\n",
       "      <td>1</td>\n",
       "      <td>1</td>\n",
       "    </tr>\n",
       "    <tr>\n",
       "      <th>890</th>\n",
       "      <td>0</td>\n",
       "      <td>3</td>\n",
       "      <td>0</td>\n",
       "      <td>32.0</td>\n",
       "      <td>0</td>\n",
       "      <td>0</td>\n",
       "      <td>7.7500</td>\n",
       "      <td>True</td>\n",
       "      <td>False</td>\n",
       "      <td>1</td>\n",
       "      <td>1</td>\n",
       "    </tr>\n",
       "  </tbody>\n",
       "</table>\n",
       "<p>891 rows × 11 columns</p>\n",
       "</div>"
      ],
      "text/plain": [
       "     Survived  Pclass  Sex   Age  SibSp  Parch     Fare  Embarked_Q  \\\n",
       "0           0       3    0  22.0      1      0   7.2500       False   \n",
       "1           1       1    1  38.0      1      0  71.2833       False   \n",
       "2           1       3    1  26.0      0      0   7.9250       False   \n",
       "3           1       1    1  35.0      1      0  53.1000       False   \n",
       "4           0       3    0  35.0      0      0   8.0500       False   \n",
       "..        ...     ...  ...   ...    ...    ...      ...         ...   \n",
       "886         0       2    0  27.0      0      0  13.0000       False   \n",
       "887         1       1    1  19.0      0      0  30.0000       False   \n",
       "888         0       3    1  28.0      1      2  23.4500       False   \n",
       "889         1       1    0  26.0      0      0  30.0000       False   \n",
       "890         0       3    0  32.0      0      0   7.7500        True   \n",
       "\n",
       "     Embarked_S  Family_Size  Is_Alone  \n",
       "0          True            2         0  \n",
       "1         False            2         0  \n",
       "2          True            1         1  \n",
       "3          True            2         0  \n",
       "4          True            1         1  \n",
       "..          ...          ...       ...  \n",
       "886        True            1         1  \n",
       "887        True            1         1  \n",
       "888        True            4         0  \n",
       "889       False            1         1  \n",
       "890       False            1         1  \n",
       "\n",
       "[891 rows x 11 columns]"
      ]
     },
     "execution_count": 18,
     "metadata": {},
     "output_type": "execute_result"
    }
   ],
   "source": [
    "titanic"
   ]
  },
  {
   "cell_type": "markdown",
   "id": "60c4d6f9",
   "metadata": {
    "papermill": {
     "duration": 0.012269,
     "end_time": "2024-12-27T22:08:54.669824",
     "exception": false,
     "start_time": "2024-12-27T22:08:54.657555",
     "status": "completed"
    },
    "tags": []
   },
   "source": [
    "## MODELING\n",
    "\n",
    "### Here we are going to split the data into training and testing sets"
   ]
  },
  {
   "cell_type": "code",
   "execution_count": 19,
   "id": "a930dc97",
   "metadata": {
    "execution": {
     "iopub.execute_input": "2024-12-27T22:08:54.695466Z",
     "iopub.status.busy": "2024-12-27T22:08:54.695088Z",
     "iopub.status.idle": "2024-12-27T22:08:54.971356Z",
     "shell.execute_reply": "2024-12-27T22:08:54.970510Z"
    },
    "papermill": {
     "duration": 0.291172,
     "end_time": "2024-12-27T22:08:54.973229",
     "exception": false,
     "start_time": "2024-12-27T22:08:54.682057",
     "status": "completed"
    },
    "tags": []
   },
   "outputs": [],
   "source": [
    "from sklearn.model_selection import train_test_split\n",
    "X = titanic.drop(['Survived'], axis=1)\n",
    "y = titanic['Survived']\n",
    "X_train, X_test, y_train, y_test = train_test_split(X, y, test_size=0.2, random_state=42)"
   ]
  },
  {
   "cell_type": "markdown",
   "id": "36edf14d",
   "metadata": {
    "papermill": {
     "duration": 0.011921,
     "end_time": "2024-12-27T22:08:54.997877",
     "exception": false,
     "start_time": "2024-12-27T22:08:54.985956",
     "status": "completed"
    },
    "tags": []
   },
   "source": [
    "### Now we train models on Logistic Regression and Random Forest\n",
    "\n",
    "### Random Forest Model"
   ]
  },
  {
   "cell_type": "code",
   "execution_count": 20,
   "id": "b991dcd4",
   "metadata": {
    "execution": {
     "iopub.execute_input": "2024-12-27T22:08:55.023531Z",
     "iopub.status.busy": "2024-12-27T22:08:55.023182Z",
     "iopub.status.idle": "2024-12-27T22:08:55.601617Z",
     "shell.execute_reply": "2024-12-27T22:08:55.600036Z"
    },
    "papermill": {
     "duration": 0.593084,
     "end_time": "2024-12-27T22:08:55.603306",
     "exception": false,
     "start_time": "2024-12-27T22:08:55.010222",
     "status": "completed"
    },
    "tags": []
   },
   "outputs": [
    {
     "name": "stdout",
     "output_type": "stream",
     "text": [
      "Classification Report:\n",
      "              precision    recall  f1-score   support\n",
      "\n",
      "           0       0.84      0.88      0.86       105\n",
      "           1       0.81      0.77      0.79        74\n",
      "\n",
      "    accuracy                           0.83       179\n",
      "   macro avg       0.83      0.82      0.83       179\n",
      "weighted avg       0.83      0.83      0.83       179\n",
      "\n",
      "Accuracy: 83.24%\n"
     ]
    }
   ],
   "source": [
    "from sklearn.ensemble import RandomForestClassifier\n",
    "from sklearn.metrics import classification_report, accuracy_score, confusion_matrix\n",
    "\n",
    "RF_model = RandomForestClassifier(random_state=42)\n",
    "RF_model.fit(X_train, y_train)\n",
    "RF_predictions = RF_model.predict(X_test)\n",
    "\n",
    "accuracy = accuracy_score(y_test, RF_predictions)\n",
    "print(\"Classification Report:\")\n",
    "print(classification_report(y_test, RF_predictions))\n",
    "print(f\"Accuracy: {accuracy * 100:.2f}%\")"
   ]
  },
  {
   "cell_type": "markdown",
   "id": "e01ff477",
   "metadata": {
    "papermill": {
     "duration": 0.011774,
     "end_time": "2024-12-27T22:08:55.627552",
     "exception": false,
     "start_time": "2024-12-27T22:08:55.615778",
     "status": "completed"
    },
    "tags": []
   },
   "source": [
    "### Logistic Regression"
   ]
  },
  {
   "cell_type": "code",
   "execution_count": 21,
   "id": "46f2ca8c",
   "metadata": {
    "execution": {
     "iopub.execute_input": "2024-12-27T22:08:55.653039Z",
     "iopub.status.busy": "2024-12-27T22:08:55.652697Z",
     "iopub.status.idle": "2024-12-27T22:08:55.721284Z",
     "shell.execute_reply": "2024-12-27T22:08:55.720178Z"
    },
    "papermill": {
     "duration": 0.083489,
     "end_time": "2024-12-27T22:08:55.723200",
     "exception": false,
     "start_time": "2024-12-27T22:08:55.639711",
     "status": "completed"
    },
    "tags": []
   },
   "outputs": [
    {
     "name": "stdout",
     "output_type": "stream",
     "text": [
      "Classification Report:\n",
      "              precision    recall  f1-score   support\n",
      "\n",
      "           0       0.82      0.85      0.83       105\n",
      "           1       0.77      0.73      0.75        74\n",
      "\n",
      "    accuracy                           0.80       179\n",
      "   macro avg       0.79      0.79      0.79       179\n",
      "weighted avg       0.80      0.80      0.80       179\n",
      "\n",
      "Confusion Matrix:\n",
      "[[89 16]\n",
      " [20 54]]\n",
      "Accuracy: 79.89%\n"
     ]
    }
   ],
   "source": [
    "from sklearn.linear_model import LogisticRegression\n",
    "\n",
    "LR_model = LogisticRegression(max_iter=300)\n",
    "LR_model.fit(X_train, y_train)\n",
    "LR_predictions = LR_model.predict(X_test)\n",
    "accuracy = accuracy_score(y_test, LR_predictions)\n",
    "\n",
    "print(\"Classification Report:\") \n",
    "print(classification_report(y_test, LR_predictions))\n",
    "\n",
    "print(\"Confusion Matrix:\")\n",
    "print(confusion_matrix(y_test, LR_predictions))\n",
    "\n",
    "print(f\"Accuracy: {accuracy * 100:.2f}%\")"
   ]
  },
  {
   "cell_type": "markdown",
   "id": "30169b70",
   "metadata": {
    "papermill": {
     "duration": 0.011907,
     "end_time": "2024-12-27T22:08:55.747511",
     "exception": false,
     "start_time": "2024-12-27T22:08:55.735604",
     "status": "completed"
    },
    "tags": []
   },
   "source": [
    "## Feature Importance Analysis\n",
    "\n",
    "### This shows which features contribute most to survival predictions"
   ]
  },
  {
   "cell_type": "code",
   "execution_count": 22,
   "id": "85c4f7f6",
   "metadata": {
    "execution": {
     "iopub.execute_input": "2024-12-27T22:08:55.773221Z",
     "iopub.status.busy": "2024-12-27T22:08:55.772882Z",
     "iopub.status.idle": "2024-12-27T22:08:56.025542Z",
     "shell.execute_reply": "2024-12-27T22:08:56.024505Z"
    },
    "papermill": {
     "duration": 0.267703,
     "end_time": "2024-12-27T22:08:56.027448",
     "exception": false,
     "start_time": "2024-12-27T22:08:55.759745",
     "status": "completed"
    },
    "tags": []
   },
   "outputs": [
    {
     "data": {
      "image/png": "[encoded data removed]",
      "text/plain": [
       "<Figure size 640x480 with 1 Axes>"
      ]
     },
     "metadata": {},
     "output_type": "display_data"
    }
   ],
   "source": [
    "importances = RF_model.feature_importances_\n",
    "sns.barplot(x=importances, y=X.columns)\n",
    "plt.title(\"Feature Importance\")\n",
    "plt.show()"
   ]
  }
 ],
 "metadata": {
  "kaggle": {
   "accelerator": "none",
   "dataSources": [
    {
     "datasetId": 6384551,
     "sourceId": 10313184,
     "sourceType": "datasetVersion"
    }
   ],
   "dockerImageVersionId": 30822,
   "isGpuEnabled": false,
   "isInternetEnabled": true,
   "language": "python",
   "sourceType": "notebook"
  },
  "kernelspec": {
   "display_name": "Python 3",
   "language": "python",
   "name": "python3"
  },
  "language_info": {
   "codemirror_mode": {
    "name": "ipython",
    "version": 3
   },
   "file_extension": ".py",
   "mimetype": "text/x-python",
   "name": "python",
   "nbconvert_exporter": "python",
   "pygments_lexer": "ipython3",
   "version": "3.10.12"
  },
  "papermill": {
   "default_parameters": {},
   "duration": 8.467092,
   "end_time": "2024-12-27T22:08:56.760444",
   "environment_variables": {},
   "exception": null,
   "input_path": "__notebook__.ipynb",
   "output_path": "__notebook__.ipynb",
   "parameters": {},
   "start_time": "2024-12-27T22:08:48.293352",
   "version": "2.6.0"
  }
 },
 "nbformat": 4,
 "nbformat_minor": 5
}
